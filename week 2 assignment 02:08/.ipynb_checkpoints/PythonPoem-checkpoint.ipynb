{
 "cells": [
  {
   "cell_type": "code",
   "execution_count": null,
   "metadata": {},
   "outputs": [],
   "source": [
    "# 1) What is the output of the following code and why? \n",
    "\n",
    "# var1 = 1\n",
    "# var2 = 2\n",
    "# var3 = \"3\"\n",
    "\n",
    "# print(var1 + var2 + var3)\n",
    "\n",
    "# a) 6 \n",
    "# b) 33 \n",
    "# c) 3 + 3 \n",
    "# d) Error \n",
    "\n",
    "# d) Error "
   ]
  },
  {
   "cell_type": "code",
   "execution_count": null,
   "metadata": {},
   "outputs": [],
   "source": [
    "# 2) What is the output of the following code? \n",
    "\n",
    "# str = \"pynative\"\n",
    "\n",
    "# print (str[1:3])\n",
    "\n",
    "# a) py\n",
    "# b) yn\n",
    "# c) pyn\n",
    "# d) yna\n",
    "\n",
    "# b) yn"
   ]
  },
  {
   "cell_type": "code",
   "execution_count": null,
   "metadata": {},
   "outputs": [],
   "source": [
    "# 3) What is the output of the following code? \n",
    "\n",
    "# var= \"James Bond\"\n",
    "# print(var[2::-1])\n",
    "\n",
    "# a) Jam\n",
    "# b) dno\n",
    "# c) maJ\n",
    "# d) dnoB semaJ\n",
    "\n",
    "# c) maJ"
   ]
  },
  {
   "cell_type": "code",
   "execution_count": null,
   "metadata": {},
   "outputs": [],
   "source": [
    "# 4) What is the output of the following code? \n",
    "\n",
    "# var = \"James\" * 2  * 3\n",
    "# print(var)\n",
    "\n",
    "# a) JamesJamesJamesJamesJamesJames\n",
    "# b) JamesJamesJamesJamesJames\n",
    "# c) Error: invalid syntax\n",
    "\n",
    "# a) JamesJamesJamesJamesJamesJames"
   ]
  },
  {
   "cell_type": "code",
   "execution_count": 1,
   "metadata": {},
   "outputs": [
    {
     "data": {
      "text/plain": [
       "'donut'"
      ]
     },
     "execution_count": 1,
     "metadata": {},
     "output_type": "execute_result"
    }
   ],
   "source": [
    "# 5) Get rid of the non fruit item: \n",
    "\n",
    "# sweets = ['apple', 'bananas', 'cantelopes', 'donut']\n",
    "\n",
    "sweets = ['apple', 'bananas', 'cantelopes', 'donut']\n",
    "sweets.pop(3)"
   ]
  },
  {
   "cell_type": "code",
   "execution_count": 3,
   "metadata": {},
   "outputs": [
    {
     "data": {
      "text/plain": [
       "'santa'"
      ]
     },
     "execution_count": 3,
     "metadata": {},
     "output_type": "execute_result"
    }
   ],
   "source": [
    "# 6) Find \"santa\" in the variable \"house\" \n",
    "\n",
    "\n",
    "# room1=['gabe', 'greg']\n",
    "# room2=['michelle','santa','stacey']\n",
    "# room3=['adam','sam', 'melissa']\n",
    "# house= [room2, room1, room3] \n",
    "\n",
    "room1=['gabe', 'greg']\n",
    "room2=['michelle','santa','stacey']\n",
    "room3=['adam','sam', 'melissa']\n",
    "house= [room2, room1, room3] \n",
    "\n",
    "house[0][1]"
   ]
  },
  {
   "cell_type": "code",
   "execution_count": null,
   "metadata": {},
   "outputs": [],
   "source": [
    "# 7) A dictionary is the best way to store a sequence of events like a recipe.\n",
    "\n",
    "# True or false? \n",
    " \n",
    "# False"
   ]
  },
  {
   "cell_type": "code",
   "execution_count": 5,
   "metadata": {},
   "outputs": [
    {
     "data": {
      "text/plain": [
       "{'bob',\n",
       " 'chris',\n",
       " 'christina',\n",
       " 'jennifer',\n",
       " 'jessica',\n",
       " 'mary',\n",
       " 'michelle',\n",
       " 'pierre',\n",
       " 'tina'}"
      ]
     },
     "execution_count": 5,
     "metadata": {},
     "output_type": "execute_result"
    }
   ],
   "source": [
    "# 8) Remove all dupes \n",
    "# names = ['mary', 'bob', 'jessica', 'pierre', 'bob', 'jennifer', 'chris', \n",
    "#          'christina', 'tina', 'mary', 'tina', 'bob', 'michelle','jennifer']\n",
    "\n",
    "names = ['mary', 'bob', 'jessica', 'pierre', 'bob', 'jennifer', 'chris', 'christina', 'tina', 'mary', 'tina', 'bob', 'michelle','jennifer']\n",
    "set(names)"
   ]
  },
  {
   "cell_type": "code",
   "execution_count": 6,
   "metadata": {},
   "outputs": [],
   "source": [
    "# 9) What's the difference between = and == ? \n",
    "\n",
    "# = is used for assignment and == is used for comparison"
   ]
  },
  {
   "cell_type": "code",
   "execution_count": null,
   "metadata": {},
   "outputs": [],
   "source": [
    "# 10) \n",
    "\n",
    "# Use the concepts you learned in class to construct a poem. Please make sure you write your own poem. There are no guidelines to writing this poem but if you want, feel free to following traditional poem formats like ballads, sonnets, haikus or more.  \n",
    "\n",
    "# See below for example. I expect yours to have a bit more elegant. \n",
    "\n",
    "# Credit Poem: \"Still I Rise\" by Maya Angelou \n",
    "\n",
    "# Reference: https://www.popwebdesign.net/popart_blog/en/2018/01/code-poetry-poems-written-in-programming-languages/ \n"
   ]
  },
  {
   "cell_type": "code",
   "execution_count": 13,
   "metadata": {},
   "outputs": [
    {
     "name": "stdout",
     "output_type": "stream",
     "text": [
      "Return to dust\n",
      "\n",
      "\n",
      "BY ISABELLA WANG\n",
      "\n",
      "\n",
      "To see the vastness of a world,\n",
      "Contained in just one tiny grain of sand.\n",
      "And to witness the majesty of heaven,\n",
      "Within the delicate petals of a wildflower's stand.\n",
      "\n",
      "\n",
      "Hold the boundless possibilities of infinity,\n",
      "In the palm of your hand.\n",
      "And bask in the timelessness of eternity,\n",
      "Captured within a single fleeting hour, so grand.\n",
      "\n",
      "\n",
      "For what is small and microscopic,\n",
      "Is also grand and macroscopic.\n",
      "We are mere particles,\n",
      "Intertwined in the fabric of nature's magic.\n",
      "\n",
      "\n",
      "From dust we come,\n",
      "And to dust we shall return.\n",
      "It's a cycle that repeats,\n",
      "With each life that's earned.\n",
      "\n",
      "\n",
      "Yet, in each moment, in each sight,\n",
      "There's a beauty to behold.\n",
      "And a world around us,\n",
      "That's always there to unfold.\n",
      "\n",
      "\n",
      "So embrace each moment,\n",
      "Hold on tight to its grace.\n",
      "And enjoy the journey,\n",
      "As it leads us back to our place.\n",
      "\n",
      "\n",
      "For the journey is the destination,\n",
      "And the end is just a start.\n",
      "And we'll return to dust,\n",
      "With memories that will never depart.\n"
     ]
    }
   ],
   "source": [
    "a = 'Return'\n",
    "b = 'by Isabella Wang'\n",
    "\n",
    "print (f'{a} to dust')\n",
    "print('\\n')\n",
    "print(b.upper())\n",
    "print('\\n')\n",
    "print('To see the vastness of a world,')\n",
    "print('Contained in just one tiny grain of sand.')\n",
    "print('And to witness the majesty of heaven,')\n",
    "print('Within the delicate petals of a wildflower\\'s stand.')\n",
    "print('\\n')\n",
    "print('Hold the boundless possibilities of infinity,')\n",
    "print('In the palm of your hand.')\n",
    "print('And bask in the timelessness of eternity,')\n",
    "print('Captured within a single fleeting hour, so grand.')\n",
    "print('\\n')\n",
    "print('For what is small and microscopic,')\n",
    "print('Is also grand and macroscopic.')\n",
    "print('We are mere particles,')\n",
    "print('Intertwined in the fabric of nature\\'s magic.')\n",
    "print('\\n')\n",
    "print('From dust we come,')\n",
    "print('And to dust we shall return.')\n",
    "print('It\\'s a cycle that repeats,')\n",
    "print('With each life that\\'s earned.')\n",
    "print('\\n')\n",
    "print('Yet, in each moment, in each sight,')\n",
    "print('There\\'s a beauty to behold.')\n",
    "print('And a world around us,')\n",
    "print('That\\'s always there to unfold.')\n",
    "print('\\n')\n",
    "print('So embrace each moment,')\n",
    "print('Hold on tight to its grace.')\n",
    "print('And enjoy the journey,')\n",
    "print('As it leads us back to our place.')\n",
    "print('\\n')\n",
    "print('For the journey is the destination,')\n",
    "print('And the end is just a start.')\n",
    "print('And we\\'ll return to dust,')\n",
    "print('With memories that will never depart.')"
   ]
  },
  {
   "cell_type": "code",
   "execution_count": null,
   "metadata": {},
   "outputs": [],
   "source": []
  }
 ],
 "metadata": {
  "kernelspec": {
   "display_name": "Python 3 (ipykernel)",
   "language": "python",
   "name": "python3"
  },
  "language_info": {
   "codemirror_mode": {
    "name": "ipython",
    "version": 3
   },
   "file_extension": ".py",
   "mimetype": "text/x-python",
   "name": "python",
   "nbconvert_exporter": "python",
   "pygments_lexer": "ipython3",
   "version": "3.9.13"
  }
 },
 "nbformat": 4,
 "nbformat_minor": 2
}
