{
 "cells": [
  {
   "cell_type": "code",
   "execution_count": 1,
   "id": "70298b69",
   "metadata": {},
   "outputs": [
    {
     "data": {
      "text/plain": [
       "3"
      ]
     },
     "execution_count": 1,
     "metadata": {},
     "output_type": "execute_result"
    }
   ],
   "source": [
    "tuplelist = [(1,2),(3,4),(5,6)]\n",
    "len(tuplelist)"
   ]
  },
  {
   "cell_type": "code",
   "execution_count": 2,
   "id": "8accd82e",
   "metadata": {},
   "outputs": [
    {
     "name": "stdout",
     "output_type": "stream",
     "text": [
      "(1, 2)\n",
      "(3, 4)\n",
      "(5, 6)\n"
     ]
    }
   ],
   "source": [
    "for nums in tuplelist: \n",
    "    print(nums)"
   ]
  },
  {
   "cell_type": "code",
   "execution_count": 3,
   "id": "d4362e76",
   "metadata": {},
   "outputs": [
    {
     "name": "stdout",
     "output_type": "stream",
     "text": [
      "(1, 2)\n",
      "(3, 4)\n",
      "(5, 6)\n"
     ]
    }
   ],
   "source": [
    "for x in tuplelist: \n",
    "    print(x)"
   ]
  },
  {
   "cell_type": "code",
   "execution_count": 4,
   "id": "0b96d772",
   "metadata": {},
   "outputs": [
    {
     "name": "stdout",
     "output_type": "stream",
     "text": [
      "2\n",
      "4\n",
      "6\n"
     ]
    }
   ],
   "source": [
    "for (x,y) in tuplelist: \n",
    "    print(y)"
   ]
  },
  {
   "cell_type": "code",
   "execution_count": 5,
   "id": "edd31a69",
   "metadata": {},
   "outputs": [
    {
     "name": "stdout",
     "output_type": "stream",
     "text": [
      "1\n",
      "3\n",
      "5\n"
     ]
    }
   ],
   "source": [
    "for (a,b) in tuplelist: \n",
    "    print(a)"
   ]
  },
  {
   "cell_type": "code",
   "execution_count": 9,
   "id": "4454cd7b",
   "metadata": {},
   "outputs": [
    {
     "name": "stdout",
     "output_type": "stream",
     "text": [
      "50\n",
      "100\n"
     ]
    }
   ],
   "source": [
    "x = 50 \n",
    "\n",
    "def printNumber():\n",
    "    x = 100 \n",
    "    return x \n",
    "print(x) # this is global \n",
    "\n",
    "print(printNumber())"
   ]
  },
  {
   "cell_type": "code",
   "execution_count": 15,
   "id": "0f696e56",
   "metadata": {},
   "outputs": [],
   "source": [
    "def greeting():\n",
    "    \"\"\"this text to tell you what this function does\"\"\"\n",
    "    #test\n",
    "    print('hello world')"
   ]
  },
  {
   "cell_type": "code",
   "execution_count": 17,
   "id": "68b29f01",
   "metadata": {},
   "outputs": [
    {
     "name": "stdout",
     "output_type": "stream",
     "text": [
      "hello world\n"
     ]
    }
   ],
   "source": [
    "greeting()"
   ]
  },
  {
   "cell_type": "code",
   "execution_count": 18,
   "id": "100029b5",
   "metadata": {},
   "outputs": [
    {
     "name": "stdout",
     "output_type": "stream",
     "text": [
      "Help on function greeting in module __main__:\n",
      "\n",
      "greeting()\n",
      "    this text to tell you what this function does\n",
      "\n"
     ]
    }
   ],
   "source": [
    "help(greeting)"
   ]
  },
  {
   "cell_type": "code",
   "execution_count": 2,
   "id": "99c7f760",
   "metadata": {},
   "outputs": [
    {
     "name": "stdout",
     "output_type": "stream",
     "text": [
      "True\n"
     ]
    }
   ],
   "source": [
    "a, b = 12, 5\n",
    "if a + b:\n",
    "    print('True')\n",
    "else:\n",
    "    print('False')"
   ]
  },
  {
   "cell_type": "code",
   "execution_count": 3,
   "id": "486e9b23",
   "metadata": {},
   "outputs": [
    {
     "name": "stdout",
     "output_type": "stream",
     "text": [
      "2\n"
     ]
    }
   ],
   "source": [
    "x = 0\n",
    "a = 0\n",
    "b = -5\n",
    "if a > 0:\n",
    "    if b < 0: \n",
    "        x = x + 5 \n",
    "    elif a > 5:\n",
    "        x = x + 4\n",
    "    else:\n",
    "        x = x + 3\n",
    "else:\n",
    "    x = x + 2\n",
    "print(x)"
   ]
  },
  {
   "cell_type": "code",
   "execution_count": 15,
   "id": "5ae508d4",
   "metadata": {
    "scrolled": true
   },
   "outputs": [
    {
     "ename": "SyntaxError",
     "evalue": "invalid syntax (3913773125.py, line 26)",
     "output_type": "error",
     "traceback": [
      "\u001b[0;36m  File \u001b[0;32m\"/var/folders/rk/_pnklxbx7f73n47h5b5p4lqm0000gn/T/ipykernel_2185/3913773125.py\"\u001b[0;36m, line \u001b[0;32m26\u001b[0m\n\u001b[0;31m    if couple_count > rose_count\u001b[0m\n\u001b[0m                                ^\u001b[0m\n\u001b[0;31mSyntaxError\u001b[0m\u001b[0;31m:\u001b[0m invalid syntax\n"
     ]
    }
   ],
   "source": [
    "import requests\n",
    "from bs4 import BeautifulSoup\n",
    "import tkinter as tk\n",
    "from tkinter import simpledialog\n",
    "\n",
    "def get_url():\n",
    "    root = tk.Tk()\n",
    "    root.withdraw()\n",
    "    url = simpledialog.askstring(title=\"Enter URL\", prompt=\"Enter the URL of the webpage:\")\n",
    "    return url\n",
    "\n",
    "def count():\n",
    "    # Ask the user for the URL of the webpage\n",
    "    url = get_url()\n",
    "\n",
    "    # Make a GET request to the URL\n",
    "    response = requests.get(url)\n",
    "\n",
    "    # Parse the HTML content using BeautifulSoup\n",
    "    soup = BeautifulSoup(response.content, 'html.parser')\n",
    "\n",
    "    # Count the number of occurrences of \"love\" and \"rose\" in the HTML content\n",
    "    couple_count = soup.get_text().lower().count(\"Couple\") + soup.get_text().lower().count(\"couple\")\n",
    "    rose_count = soup.get_text().lower().count(\"Rose\") + soup.get_text().lower().count(\"rose\")\n",
    "    \n",
    "    if couple_count > rose_count\n",
    "       print(\"Break up!!!\")\n",
    "\n",
    "    # Multiply the counts of \"love\" and \"rose\"\n",
    "    result = couple_count, rose_count\n",
    "\n",
    "    # Return the result\n",
    "    return result"
   ]
  },
  {
   "cell_type": "code",
   "execution_count": 14,
   "id": "5d231326",
   "metadata": {},
   "outputs": [
    {
     "name": "stdout",
     "output_type": "stream",
     "text": [
      "6\n"
     ]
    }
   ],
   "source": [
    "result = count()\n",
    "print(result)"
   ]
  },
  {
   "cell_type": "code",
   "execution_count": 24,
   "id": "a3da330e",
   "metadata": {},
   "outputs": [
    {
     "name": "stdout",
     "output_type": "stream",
     "text": [
      "Break up!\n"
     ]
    }
   ],
   "source": [
    "import requests\n",
    "from bs4 import BeautifulSoup\n",
    "import tkinter as tk\n",
    "from tkinter import simpledialog\n",
    "\n",
    "def get_url():\n",
    "    root = tk.Tk()\n",
    "    root.withdraw()\n",
    "    url = simpledialog.askstring(title=\"Enter URL\", prompt=\"Enter the URL of the webpage:\")\n",
    "    return url\n",
    "\n",
    "def calculator():\n",
    "    url = get_url()\n",
    "\n",
    "    # Make a GET request to the URL\n",
    "    response = requests.get(url)\n",
    "\n",
    "    # Parse the HTML content using BeautifulSoup\n",
    "    soup = BeautifulSoup(response.content, 'html.parser')\n",
    "\n",
    "    # Count the number of occurrences\n",
    "    couple_count = soup.get_text().lower().count(\"Couple\") + soup.get_text().lower().count(\"couple\")\n",
    "    rose_count = soup.get_text().lower().count(\"Rose\") + soup.get_text().lower().count(\"rose\")\n",
    "\n",
    "    # Compare the counts\n",
    "    if couple_count > rose_count:\n",
    "        print(\"Break up!\")\n",
    "    elif couple_count < rose_count:\n",
    "        print(\"Happy ending!\")\n",
    "    else:\n",
    "        print(\"Ok, I'll leave!!!\")\n",
    "\n",
    "# Call the calculator function\n",
    "calculator()"
   ]
  },
  {
   "cell_type": "code",
   "execution_count": 25,
   "id": "a1cd986e",
   "metadata": {},
   "outputs": [
    {
     "name": "stdout",
     "output_type": "stream",
     "text": [
      "Break up!\n"
     ]
    }
   ],
   "source": [
    "import requests\n",
    "from bs4 import BeautifulSoup\n",
    "import tkinter as tk\n",
    "from tkinter import simpledialog\n",
    "\n",
    "def get_url():\n",
    "    root = tk.Tk()\n",
    "    root.withdraw()\n",
    "    url = simpledialog.askstring(title=\"Enter URL\", prompt=\"Enter the URL of the webpage:\")\n",
    "    return url\n",
    "\n",
    "def calculator():\n",
    "    url = get_url()\n",
    "\n",
    "    # Make a GET request to the URL\n",
    "    response = requests.get(url)\n",
    "\n",
    "    # Parse the HTML content using BeautifulSoup\n",
    "    soup = BeautifulSoup(response.content, 'html.parser')\n",
    "\n",
    "    # Count the number of occurrences\n",
    "    couple_count = soup.get_text().lower().count(\"Couple\") + soup.get_text().lower().count(\"couple\")\n",
    "    rose_count = soup.get_text().lower().count(\"Rose\") + soup.get_text().lower().count(\"rose\")\n",
    "\n",
    "    # Compare the counts\n",
    "    if couple_count > rose_count:\n",
    "        print(\"Break up!\")\n",
    "    elif couple_count < rose_count:\n",
    "        print(\"Happy ending!\")\n",
    "    else:\n",
    "        print(\"Ok, I'll leave!!!\")\n",
    "\n",
    "# Call the calculator function\n",
    "calculator()"
   ]
  },
  {
   "cell_type": "code",
   "execution_count": 31,
   "id": "30315318",
   "metadata": {},
   "outputs": [
    {
     "ename": "SyntaxError",
     "evalue": "invalid syntax (1383802564.py, line 15)",
     "output_type": "error",
     "traceback": [
      "\u001b[0;36m  File \u001b[0;32m\"/var/folders/rk/_pnklxbx7f73n47h5b5p4lqm0000gn/T/ipykernel_2185/1383802564.py\"\u001b[0;36m, line \u001b[0;32m15\u001b[0m\n\u001b[0;31m    if couple_count = 0 and rose_count = 0\u001b[0m\n\u001b[0m                    ^\u001b[0m\n\u001b[0;31mSyntaxError\u001b[0m\u001b[0;31m:\u001b[0m invalid syntax\n"
     ]
    }
   ],
   "source": [
    "import requests\n",
    "from bs4 import BeautifulSoup\n",
    "\n",
    "def calculator(url):\n",
    "    # Make a GET request to the URL\n",
    "    response = requests.get(url)\n",
    "\n",
    "    # Parse the HTML content using BeautifulSoup\n",
    "    soup = BeautifulSoup(response.content, 'html.parser')\n",
    "\n",
    "    # Count the number of occurrences\n",
    "    couple_count = soup.get_text().lower().count(\"Couple\") + soup.get_text().lower().count(\"couple\")\n",
    "    rose_count = soup.get_text().lower().count(\"Rose\") + soup.get_text().lower().count(\"rose\")\n",
    "    \n",
    "    if couple_count = 0 and rose_count = 0\n",
    "        print(\"UNKNOWN\")\n",
    "    \n",
    "    # Compare the counts\n",
    "    elif couple_count > rose_count:\n",
    "        print(\"Break up!\")\n",
    "    elif couple_count < rose_count:\n",
    "        print(\"Happy ending!\")\n",
    "    else:\n",
    "        print(\"Ok, I'll leave!!!\")\n",
    "\n",
    "\n",
    "url = \"https://www.example.com\"\n",
    "calculator(url)"
   ]
  },
  {
   "cell_type": "code",
   "execution_count": null,
   "id": "b4f9c8f0",
   "metadata": {},
   "outputs": [],
   "source": [
    "import requests\n",
    "from bs4 import BeautifulSoup\n",
    "\n",
    "def calculator():\n",
    "    url = input(\"We found love in this hopeless place: \")\n",
    "\n",
    "    response = requests.get(url)\n",
    "\n",
    "    soup = BeautifulSoup(response.content, 'html.parser')\n",
    "\n",
    "    # Count the number of occurrences\n",
    "    couple_count = soup.get_text().lower().count(\"couple\")\n",
    "    rose_count = soup.get_text().lower().count(\"rose\")\n",
    "\n",
    "    if couple_count == 0 and rose_count == 0:\n",
    "        print(\"UNKNOWN\")\n",
    "    \n",
    "    # Compare the counts\n",
    "    elif couple_count > rose_count:\n",
    "        print(\"Break up!\")\n",
    "    elif couple_count < rose_count:\n",
    "        print(\"Happy ending!\")\n",
    "    else:\n",
    "        print(\"Ok, I'll leave!!!\")\n",
    "\n",
    "calculator()"
   ]
  },
  {
   "cell_type": "code",
   "execution_count": null,
   "id": "af094ec5",
   "metadata": {},
   "outputs": [],
   "source": []
  }
 ],
 "metadata": {
  "kernelspec": {
   "display_name": "Python 3 (ipykernel)",
   "language": "python",
   "name": "python3"
  },
  "language_info": {
   "codemirror_mode": {
    "name": "ipython",
    "version": 3
   },
   "file_extension": ".py",
   "mimetype": "text/x-python",
   "name": "python",
   "nbconvert_exporter": "python",
   "pygments_lexer": "ipython3",
   "version": "3.9.13"
  }
 },
 "nbformat": 4,
 "nbformat_minor": 5
}
