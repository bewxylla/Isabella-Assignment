{
 "cells": [
  {
   "cell_type": "code",
   "execution_count": 1,
   "metadata": {},
   "outputs": [],
   "source": [
    "import requests\n",
    "from bs4 import BeautifulSoup\n",
    "\n",
    "def calculator():\n",
    "    # Prompt the user to input the URL of the webpage\n",
    "    url = input(\"We found love in this hopeless place: \")\n",
    "\n",
    "    # Make a GET request to the URL\n",
    "    response = requests.get(url)\n",
    "\n",
    "    # Parse the HTML content using BeautifulSoup\n",
    "    soup = BeautifulSoup(response.content, 'html.parser')\n",
    "\n",
    "    # Count the number of occurrences\n",
    "    couple_count = soup.get_text().lower().count(\"couple\")\n",
    "    rose_count = soup.get_text().lower().count(\"rose\")\n",
    "\n",
    "    if couple_count == 0 and rose_count == 0:\n",
    "        print(\"UNKNOWN\")\n",
    "    \n",
    "    # Compare the counts\n",
    "    elif couple_count > rose_count:\n",
    "        print(\"Break up!\")\n",
    "    elif couple_count < rose_count:\n",
    "        print(\"Happy ending!\")\n",
    "    else:\n",
    "        print(\"Ok, I'll leave!!!\")\n",
    "        \n",
    "    print(couple_count, rose_count)"
   ]
  },
  {
   "cell_type": "code",
   "execution_count": 3,
   "metadata": {},
   "outputs": [
    {
     "name": "stdout",
     "output_type": "stream",
     "text": [
      "We found love in this hopeless place: https://www.bbc.com/news/newsbeat-64635540\n",
      "UNKNOWN\n",
      "0 0\n"
     ]
    }
   ],
   "source": [
    "calculator()"
   ]
  },
  {
   "cell_type": "code",
   "execution_count": null,
   "metadata": {},
   "outputs": [],
   "source": []
  }
 ],
 "metadata": {
  "kernelspec": {
   "display_name": "Python 3 (ipykernel)",
   "language": "python",
   "name": "python3"
  },
  "language_info": {
   "codemirror_mode": {
    "name": "ipython",
    "version": 3
   },
   "file_extension": ".py",
   "mimetype": "text/x-python",
   "name": "python",
   "nbconvert_exporter": "python",
   "pygments_lexer": "ipython3",
   "version": "3.9.13"
  },
  "vscode": {
   "interpreter": {
    "hash": "31f2aee4e71d21fbe5cf8b01ff0e069b9275f58929596ceb00d14d90e3e16cd6"
   }
  }
 },
 "nbformat": 4,
 "nbformat_minor": 2
}
