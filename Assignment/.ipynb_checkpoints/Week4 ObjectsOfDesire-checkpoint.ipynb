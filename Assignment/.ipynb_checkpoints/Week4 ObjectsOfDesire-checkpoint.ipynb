{
 "cells": [
  {
   "cell_type": "markdown",
   "metadata": {},
   "source": [
    "Create a class object of something that you love. Write at least 3 methods for it. Include some attributes.\n",
    "\n",
    "Items you love can be categorical: \n",
    "\n",
    "* Food  \n",
    "* Pets \n",
    "* Vehicles \n",
    "* Places \n",
    "* Activities \n",
    "* Things \n",
    "\n",
    "See examples below "
   ]
  },
  {
   "cell_type": "code",
   "execution_count": null,
   "metadata": {},
   "outputs": [],
   "source": [
    "# A class with two instance attributes\n",
    "class Item:\n",
    "\n",
    "    # initializer with instance attributes\n",
    "    def __init__(self, color, style):\n",
    "        self.color = color\n",
    "        self.style = style"
   ]
  },
  {
   "cell_type": "code",
   "execution_count": 1,
   "metadata": {},
   "outputs": [],
   "source": [
    "class Bill:\n",
    "    def __init__(self, amount, tip_percent=0):\n",
    "        self.amount = amount\n",
    "        self.tip_percent = tip_percent\n",
    "        \n",
    "    def calculate_tip(self):\n",
    "        return self.amount * self.tip_percent / 100\n",
    "    \n",
    "    def total_amount(self):\n",
    "        return self.amount + self.calculate_tip()\n",
    "    \n",
    "    def split(self, num_people):\n",
    "        return self.total_amount() / num_people"
   ]
  },
  {
   "cell_type": "code",
   "execution_count": 4,
   "metadata": {},
   "outputs": [],
   "source": [
    "my_bill = Bill(100, 20)"
   ]
  },
  {
   "cell_type": "code",
   "execution_count": 5,
   "metadata": {},
   "outputs": [
    {
     "name": "stdout",
     "output_type": "stream",
     "text": [
      "20.0\n",
      "120.0\n",
      "60.0\n"
     ]
    }
   ],
   "source": [
    "print(my_bill.calculate_tip())\n",
    "\n",
    "print(my_bill.total_amount())\n",
    "\n",
    "print(my_bill.split(2))"
   ]
  },
  {
   "cell_type": "code",
   "execution_count": null,
   "metadata": {},
   "outputs": [],
   "source": []
  }
 ],
 "metadata": {
  "kernelspec": {
   "display_name": "Python 3 (ipykernel)",
   "language": "python",
   "name": "python3"
  },
  "language_info": {
   "codemirror_mode": {
    "name": "ipython",
    "version": 3
   },
   "file_extension": ".py",
   "mimetype": "text/x-python",
   "name": "python",
   "nbconvert_exporter": "python",
   "pygments_lexer": "ipython3",
   "version": "3.9.13"
  }
 },
 "nbformat": 4,
 "nbformat_minor": 2
}
