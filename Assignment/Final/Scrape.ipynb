{
 "cells": [
  {
   "cell_type": "code",
   "execution_count": 9,
   "id": "d4bd0d43",
   "metadata": {},
   "outputs": [
    {
     "name": "stdout",
     "output_type": "stream",
     "text": [
      "Number of Faces: 0\n"
     ]
    }
   ],
   "source": [
    "import requests\n",
    "from bs4 import BeautifulSoup\n",
    "import cv2\n",
    "\n",
    "# Load the Haar cascade classifier for face detection\n",
    "face_cascade = cv2.CascadeClassifier(cv2.data.haarcascades + 'haarcascade_frontalface_default.xml')\n",
    "\n",
    "# Specify the URL of the website where the magazine images are available\n",
    "magazine_url = 'https://www.nytimes.com/'\n",
    "\n",
    "# Send a GET request to the website and parse the HTML content\n",
    "response = requests.get(magazine_url)\n",
    "soup = BeautifulSoup(response.content, 'html.parser')\n",
    "\n",
    "# Find all the image elements on the webpage\n",
    "image_elements = soup.find_all('img')\n",
    "\n",
    "# Choose a random image URL from the list of image elements\n",
    "random_image_url = image_elements[0]['src']  # Modify this index as per your requirement\n",
    "\n",
    "# Download the image\n",
    "image_response = requests.get(random_image_url)\n",
    "image_data = image_response.content\n",
    "\n",
    "# Save the image locally\n",
    "with open('random_image.jpg', 'wb') as f:\n",
    "    f.write(image_data)\n",
    "\n",
    "# Load the downloaded image\n",
    "image = cv2.imread('random_image.jpg')\n",
    "\n",
    "# Convert the image to grayscale\n",
    "gray = cv2.cvtColor(image, cv2.COLOR_BGR2GRAY)\n",
    "\n",
    "# Perform face detection\n",
    "faces = face_cascade.detectMultiScale(gray, scaleFactor=1.1, minNeighbors=5, minSize=(30, 30))\n",
    "\n",
    "# Get the number of detected faces\n",
    "num_faces = len(faces)\n",
    "\n",
    "# Print the number of faces detected\n",
    "print(f\"Number of Faces: {num_faces}\")"
   ]
  },
  {
   "cell_type": "code",
   "execution_count": 11,
   "id": "a1569b1f",
   "metadata": {},
   "outputs": [
    {
     "name": "stdout",
     "output_type": "stream",
     "text": [
      "Number of Faces: 0\n"
     ]
    }
   ],
   "source": [
    "import numpy as np\n",
    "import requests\n",
    "from bs4 import BeautifulSoup\n",
    "import cv2\n",
    "\n",
    "# Load the Haar cascade classifier for face detection\n",
    "face_cascade = cv2.CascadeClassifier(cv2.data.haarcascades + 'haarcascade_frontalface_default.xml')\n",
    "\n",
    "# Specify the URL of the website where the magazine images are available\n",
    "magazine_url = 'https://www.nytimes.com/'\n",
    "\n",
    "# Send a GET request to the website and parse the HTML content\n",
    "response = requests.get(magazine_url)\n",
    "soup = BeautifulSoup(response.content, 'html.parser')\n",
    "\n",
    "# Find all the image elements on the webpage\n",
    "image_elements = soup.find_all('img')\n",
    "\n",
    "# Filter out small images or icons and choose a suitable image URL\n",
    "random_image_url = None\n",
    "for element in image_elements:\n",
    "    image_url = element['src']\n",
    "    response = requests.get(image_url, stream=True)\n",
    "    image = cv2.imdecode(np.array(bytearray(response.content), dtype=np.uint8), cv2.IMREAD_COLOR)\n",
    "    if image is not None and min(image.shape[:2]) > 100:\n",
    "        random_image_url = image_url\n",
    "        break\n",
    "\n",
    "# Check if a suitable image URL is found\n",
    "if random_image_url is None:\n",
    "    print(\"No suitable image found for face detection.\")\n",
    "else:\n",
    "    # Download the image\n",
    "    image_response = requests.get(random_image_url)\n",
    "    image_data = image_response.content\n",
    "\n",
    "    # Save the image locally\n",
    "    with open('random_image.jpg', 'wb') as f:\n",
    "        f.write(image_data)\n",
    "\n",
    "    # Load the downloaded image\n",
    "    image = cv2.imread('random_image.jpg')\n",
    "\n",
    "    # Convert the image to grayscale\n",
    "    gray = cv2.cvtColor(image, cv2.COLOR_BGR2GRAY)\n",
    "\n",
    "    # Perform face detection\n",
    "    faces = face_cascade.detectMultiScale(gray, scaleFactor=1.1, minNeighbors=5, minSize=(30, 30))\n",
    "\n",
    "    # Get the number of detected faces\n",
    "    num_faces = len(faces)\n",
    "\n",
    "    # Print the number of faces detected\n",
    "    print(f\"Number of Faces: {num_faces}\")"
   ]
  },
  {
   "cell_type": "code",
   "execution_count": null,
   "id": "e8192719",
   "metadata": {},
   "outputs": [],
   "source": []
  }
 ],
 "metadata": {
  "kernelspec": {
   "display_name": "Python 3 (ipykernel)",
   "language": "python",
   "name": "python3"
  },
  "language_info": {
   "codemirror_mode": {
    "name": "ipython",
    "version": 3
   },
   "file_extension": ".py",
   "mimetype": "text/x-python",
   "name": "python",
   "nbconvert_exporter": "python",
   "pygments_lexer": "ipython3",
   "version": "3.9.13"
  }
 },
 "nbformat": 4,
 "nbformat_minor": 5
}
