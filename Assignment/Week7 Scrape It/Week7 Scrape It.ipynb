{
 "cells": [
  {
   "cell_type": "markdown",
   "metadata": {},
   "source": [
    "Scrape another page (it could be another wikipedia page) but I would prefer you pick something else. If you are having a hard time finding a page to scape use http://toscrape.com/ \n",
    "\n",
    "Some rules to consider: \n",
    "* Be respectful and do not bombard a website with scraping request or else you can get your IP address blocked\n",
    "* Check the website permission before you begin! If there is an API available, use it. Most websites won't let you use their data commercially.\n",
    "* Each website is unique and may update, so you may need to update your code and/or customize your scraping code for each website\n",
    "\n",
    "\n",
    "When is it a good idea to scrape a website:\n",
    "* API is not available, or information you want is not in the API\n",
    "* You want to anonoymously scrape a website (use a VPN) \n",
    "\n",
    "\n",
    "Objective: Grab 30+ images of similiar quality (they look the same) we will use these images during ML week. If you can't find 30+ images that you can scrape of simliar quality, that is fine, you can take photos yourself for that assignment. \n",
    "\n"
   ]
  },
  {
   "cell_type": "code",
   "execution_count": 3,
   "metadata": {},
   "outputs": [
    {
     "name": "stdout",
     "output_type": "stream",
     "text": [
      "Requirement already satisfied: beautifulsoup4 in /Users/bewxylla/opt/anaconda3/lib/python3.9/site-packages (4.11.1)\n",
      "Requirement already satisfied: soupsieve>1.2 in /Users/bewxylla/opt/anaconda3/lib/python3.9/site-packages (from beautifulsoup4) (2.3.1)\n",
      "\n",
      "\u001b[1m[\u001b[0m\u001b[34;49mnotice\u001b[0m\u001b[1;39;49m]\u001b[0m\u001b[39;49m A new release of pip is available: \u001b[0m\u001b[31;49m23.0.1\u001b[0m\u001b[39;49m -> \u001b[0m\u001b[32;49m23.1.2\u001b[0m\n",
      "\u001b[1m[\u001b[0m\u001b[34;49mnotice\u001b[0m\u001b[1;39;49m]\u001b[0m\u001b[39;49m To update, run: \u001b[0m\u001b[32;49mpip install --upgrade pip\u001b[0m\n",
      "Note: you may need to restart the kernel to use updated packages.\n"
     ]
    }
   ],
   "source": [
    "pip install beautifulsoup4"
   ]
  },
  {
   "cell_type": "code",
   "execution_count": 4,
   "metadata": {},
   "outputs": [
    {
     "name": "stdout",
     "output_type": "stream",
     "text": [
      "Downloaded image: profile-1557251674406-effb9d313841?auto=format&fit=crop&w=32&h=32&q=60&crop=faces&bg=fff\n",
      "Downloaded image: photo-1647891938250-954addeb9c51?ixlib=rb-4.0.3&ixid=MnwxMjA3fDF8MHxzZWFyY2h8MXx8bmF0dXJlfGVufDB8fDB8fA%3D%3D&w=1000&q=80\n",
      "Downloaded image: profile-1586795246793-9a7d890a432bimage?auto=format&fit=crop&w=32&h=32&q=60&crop=faces&bg=fff\n",
      "Downloaded image: photo-1469474968028-56623f02e42e?ixlib=rb-4.0.3&ixid=MnwxMjA3fDB8MHxzZWFyY2h8Mnx8bmF0dXJlfGVufDB8fDB8fA%3D%3D&w=1000&q=80\n",
      "Downloaded image: profile-1536207867484-ee3f39fa0ee9?auto=format&fit=crop&w=32&h=32&q=60&crop=faces&bg=fff\n",
      "Downloaded image: photo-1501854140801-50d01698950b?ixlib=rb-4.0.3&ixid=MnwxMjA3fDB8MHxzZWFyY2h8M3x8bmF0dXJlfGVufDB8fDB8fA%3D%3D&w=1000&q=80\n",
      "Downloaded image: profile-1450212878143-a86fa014afc2?auto=format&fit=crop&w=32&h=32&q=60&crop=faces&bg=fff\n",
      "Downloaded image: photo-1426604966848-d7adac402bff?ixlib=rb-4.0.3&ixid=MnwxMjA3fDB8MHxzZWFyY2h8NHx8bmF0dXJlfGVufDB8fDB8fA%3D%3D&w=1000&q=80\n",
      "Downloaded image: extra-large.jpg?auto=format&fit=crop&w=32&h=32&q=60&crop=faces&bg=fff\n",
      "Downloaded image: photo-1472214103451-9374bd1c798e?ixlib=rb-4.0.3&ixid=MnwxMjA3fDB8MHxzZWFyY2h8NXx8bmF0dXJlfGVufDB8fDB8fA%3D%3D&w=1000&q=80\n",
      "Downloaded image: profile-1471894155967-749fe500172d?auto=format&fit=crop&w=32&h=32&q=60&crop=faces&bg=fff\n",
      "Downloaded image: photo-1433086966358-54859d0ed716?ixlib=rb-4.0.3&ixid=MnwxMjA3fDB8MHxzZWFyY2h8Nnx8bmF0dXJlfGVufDB8fDB8fA%3D%3D&w=1000&q=80\n",
      "Downloaded image: profile-1676320214445-e3fec6f7b87cimage?auto=format&fit=crop&w=16&h=16&q=60&crop=faces&bg=fff\n",
      "Downloaded image: profile-1557251674406-effb9d313841?auto=format&fit=crop&w=32&h=32&q=60&crop=faces&bg=fff\n",
      "Downloaded image: photo-1679678691256-fa3ce50c2159?ixlib=rb-4.0.3&ixid=MnwxMjA3fDF8MHxzZWFyY2h8OHx8bmF0dXJlfGVufDB8fDB8fA%3D%3D&w=1000&q=80\n",
      "Downloaded image: profile-fb-1470071377-e324e6e39595.jpg?auto=format&fit=crop&w=32&h=32&q=60&crop=faces&bg=fff\n",
      "Downloaded image: photo-1470071459604-3b5ec3a7fe05?ixlib=rb-4.0.3&ixid=MnwxMjA3fDB8MHxzZWFyY2h8OXx8bmF0dXJlfGVufDB8fDB8fA%3D%3D&w=1000&q=80\n",
      "Downloaded image: profile-1635425197470-04119ef8fe14image?auto=format&fit=crop&w=32&h=32&q=60&crop=faces&bg=fff\n",
      "Downloaded image: photo-1586348943529-beaae6c28db9?ixlib=rb-4.0.3&ixid=MnwxMjA3fDB8MHxzZWFyY2h8MTB8fG5hdHVyZXxlbnwwfHwwfHw%3D&w=1000&q=80\n",
      "Downloaded image: profile-1518174728215-8c1dc8a44d32?auto=format&fit=crop&w=32&h=32&q=60&crop=faces&bg=fff\n",
      "Downloaded image: photo-1518173946687-a4c8892bbd9f?ixlib=rb-4.0.3&ixid=MnwxMjA3fDB8MHxzZWFyY2h8MTF8fG5hdHVyZXxlbnwwfHwwfHw%3D&w=1000&q=80\n",
      "Downloaded image: profile-1441974180349-689b9b920fea?auto=format&fit=crop&w=32&h=32&q=60&crop=faces&bg=fff\n",
      "Downloaded image: photo-1441974231531-c6227db76b6e?ixlib=rb-4.0.3&ixid=MnwxMjA3fDB8MHxzZWFyY2h8MTJ8fG5hdHVyZXxlbnwwfHwwfHw%3D&w=1000&q=80\n",
      "Downloaded image: profile-1669118802150-a301d7469d6bimage?auto=format&fit=crop&w=16&h=16&q=60&crop=faces&bg=fff\n",
      "Downloaded image: profile-1563477652977-77551f72b3b2?auto=format&fit=crop&w=32&h=32&q=60&crop=faces&bg=fff\n",
      "Downloaded image: photo-1447752875215-b2761acb3c5d?ixlib=rb-4.0.3&ixid=MnwxMjA3fDB8MHxzZWFyY2h8MTR8fG5hdHVyZXxlbnwwfHwwfHw%3D&w=1000&q=80\n",
      "Downloaded image: profile-1557251674406-effb9d313841?auto=format&fit=crop&w=32&h=32&q=60&crop=faces&bg=fff\n",
      "Downloaded image: photo-1679678691328-54929d271c3f?ixlib=rb-4.0.3&ixid=MnwxMjA3fDF8MHxzZWFyY2h8MTV8fG5hdHVyZXxlbnwwfHwwfHw%3D&w=1000&q=80\n",
      "Downloaded image: profile-1674776116130-f22ca6c2d4a6image?auto=format&fit=crop&w=32&h=32&q=60&crop=faces&bg=fff\n",
      "Downloaded image: photo-1465146344425-f00d5f5c8f07?ixlib=rb-4.0.3&ixid=MnwxMjA3fDB8MHxzZWFyY2h8MTZ8fG5hdHVyZXxlbnwwfHwwfHw%3D&w=1000&q=80\n",
      "Image scraping completed.\n"
     ]
    }
   ],
   "source": [
    "import requests\n",
    "from bs4 import BeautifulSoup\n",
    "import os\n",
    "\n",
    "# Function to download an image from a URL\n",
    "def download_image(url, directory):\n",
    "    response = requests.get(url)\n",
    "    if response.status_code == 200:\n",
    "        image_name = url.split('/')[-1]\n",
    "        filepath = os.path.join(directory, image_name)\n",
    "        with open(filepath, 'wb') as file:\n",
    "            file.write(response.content)\n",
    "        print(f\"Downloaded image: {image_name}\")\n",
    "\n",
    "# URL of the webpage containing images\n",
    "url = 'https://unsplash.com/s/photos/nature'\n",
    "\n",
    "# Send a GET request to the URL\n",
    "response = requests.get(url)\n",
    "\n",
    "# Create a BeautifulSoup object\n",
    "soup = BeautifulSoup(response.content, 'html.parser')\n",
    "\n",
    "# Find all image elements on the page\n",
    "image_tags = soup.find_all('img')\n",
    "\n",
    "# Create a directory to store the downloaded images\n",
    "os.makedirs('nature_images', exist_ok=True)\n",
    "\n",
    "# Counter to track the number of downloaded images\n",
    "download_count = 0\n",
    "\n",
    "# Download the images\n",
    "for image in image_tags:\n",
    "    image_url = image['src']\n",
    "    if image_url.startswith('https://images.unsplash.com'):\n",
    "        download_image(image_url, 'nature_images')\n",
    "        download_count += 1\n",
    "    if download_count >= 30:  # Limit the number of downloaded images\n",
    "        break\n",
    "\n",
    "print(\"Image scraping completed.\")\n"
   ]
  },
  {
   "cell_type": "code",
   "execution_count": null,
   "metadata": {},
   "outputs": [],
   "source": []
  }
 ],
 "metadata": {
  "kernelspec": {
   "display_name": "Python 3 (ipykernel)",
   "language": "python",
   "name": "python3"
  },
  "language_info": {
   "codemirror_mode": {
    "name": "ipython",
    "version": 3
   },
   "file_extension": ".py",
   "mimetype": "text/x-python",
   "name": "python",
   "nbconvert_exporter": "python",
   "pygments_lexer": "ipython3",
   "version": "3.9.13"
  }
 },
 "nbformat": 4,
 "nbformat_minor": 2
}
