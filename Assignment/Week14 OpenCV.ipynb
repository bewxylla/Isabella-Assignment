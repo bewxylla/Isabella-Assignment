{
 "cells": [
  {
   "cell_type": "markdown",
   "metadata": {},
   "source": [
    "# Play with OpenCV #"
   ]
  },
  {
   "cell_type": "code",
   "execution_count": null,
   "metadata": {},
   "outputs": [],
   "source": [
    "import cv2\n",
    "import HandTrackingModule as htm\n",
    "import time\n",
    "\n",
    "#############################\n",
    "wCam, hCam = 640, 480\n",
    "#############################\n",
    "cap = cv2.VideoCapture(0)\n",
    "cap.set(3, wCam)\n",
    "cap.set(4, hCam)\n",
    "pTime = 0\n",
    "detector = htm.handDetector()\n",
    "\n",
    "while True:\n",
    "    success, img = cap.read()\n",
    "    img = detector.findHands(img)\n",
    "    lmList = detector.findPosition(img, draw=False)\n",
    "    pointList = [4, 8, 12, 16, 20]\n",
    "    if len(lmList) != 0:\n",
    "        countList = []\n",
    "        # 大拇指\n",
    "        if lmList[4][1] > lmList[3][1]:\n",
    "            countList.append(1)\n",
    "        else:\n",
    "            countList.append(0)\n",
    "        # 余下四个手指\n",
    "        for i in range(1, 5):\n",
    "            if lmList[pointList[i]][2] < lmList[pointList[i] - 2][2]:\n",
    "                countList.append(1)\n",
    "            else:\n",
    "                countList.append(0)\n",
    "        # print(countList)\n",
    "\n",
    "        count = countList.count(1)  # 对列表中含有的1计数\n",
    "        HandImage = cv2.imread(f'FingerImg/{count}.jpg')\n",
    "        HandImage = cv2.resize(HandImage, (150, 200))\n",
    "        h, w, c = HandImage.shape\n",
    "        img[0:h, 0:w] = HandImage\n",
    "        cv2.putText(img, f'{int(count)}', (15, 400), cv2.FONT_HERSHEY_PLAIN, 15, (255, 0, 255), 10)\n",
    "\n",
    "\n",
    "    cTime = time.time()\n",
    "    fps = 1 / (cTime - pTime)\n",
    "    pTime = cTime\n",
    "    cv2.putText(img, f'fps: {int(fps)}', (600, 40), cv2.FONT_HERSHEY_PLAIN, 2, (255, 0, 0), 2)\n",
    "\n",
    "    cv2.imshow(\"Image\", img)\n",
    "    cv2.waitKey(1)"
   ]
  }
 ],
 "metadata": {
  "kernelspec": {
   "display_name": "Python 3 (ipykernel)",
   "language": "python",
   "name": "python3"
  },
  "language_info": {
   "codemirror_mode": {
    "name": "ipython",
    "version": 3
   },
   "file_extension": ".py",
   "mimetype": "text/x-python",
   "name": "python",
   "nbconvert_exporter": "python",
   "pygments_lexer": "ipython3",
   "version": "3.9.13"
  }
 },
 "nbformat": 4,
 "nbformat_minor": 2
}
