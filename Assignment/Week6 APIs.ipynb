{
 "cells": [
  {
   "cell_type": "markdown",
   "metadata": {},
   "source": [
    "### Assignment: APIs"
   ]
  },
  {
   "cell_type": "markdown",
   "metadata": {},
   "source": [
    "Go to list of public API. Select one from the list or find your own and make an API call. Use example from class to guide you. \n",
    "<br>\n",
    "<br>\n",
    "[General list of APIs]('https://github.com/public-apis/public-apis') \n",
    "<br>\n",
    "\n",
    "Some fun ones:  \n",
    "\n",
    "* Pokemon API \n",
    "* Dog/Cat animal facts \n",
    "* Museum api \n",
    "* Dictionary \n",
    "\n",
    "\n",
    "<b>Challenge:</b> Find an API that may not on the list. Ideas to explore: \n",
    "\n",
    "* Twitter API \n",
    "* Spotify API \n",
    "* Instagram API \n",
    "\n",
    "\n",
    "Don't use OpenAI as we will be doing that in class later. \n",
    "\n",
    "Note: Certain APIs will be harder to use than others. Look up documentation and tutorials \n",
    "\n",
    "Document what you did, why you made the API call and what you learned along the way. \n",
    "\n",
    "<b>Bonus (Not graded)</b> - Gather data from an API And create a chart from the data using matplotlib. \n"
   ]
  },
  {
   "cell_type": "code",
   "execution_count": 22,
   "metadata": {},
   "outputs": [],
   "source": [
    "weather_api_url = 'https://api.weather.gov'"
   ]
  },
  {
   "cell_type": "code",
   "execution_count": 33,
   "metadata": {},
   "outputs": [],
   "source": [
    "response = requests.get(weather_api_url)\n",
    "weather_data = response.json()"
   ]
  },
  {
   "cell_type": "code",
   "execution_count": 34,
   "metadata": {},
   "outputs": [
    {
     "name": "stdout",
     "output_type": "stream",
     "text": [
      "<class 'dict'>\n"
     ]
    }
   ],
   "source": [
    "print(type(weather_data))"
   ]
  },
  {
   "cell_type": "code",
   "execution_count": 35,
   "metadata": {},
   "outputs": [
    {
     "data": {
      "text/plain": [
       "{'status': 'OK'}"
      ]
     },
     "execution_count": 35,
     "metadata": {},
     "output_type": "execute_result"
    }
   ],
   "source": [
    "weather_data"
   ]
  },
  {
   "cell_type": "code",
   "execution_count": 31,
   "metadata": {},
   "outputs": [],
   "source": [
    "gofinfo_api_url = 'https://anapioficeandfire.com/api'\n",
    "response = requests.get(gofinfo_api_url)\n",
    "gofinfo_data = response.json()"
   ]
  },
  {
   "cell_type": "code",
   "execution_count": 32,
   "metadata": {},
   "outputs": [
    {
     "data": {
      "text/plain": [
       "{'books': 'https://anapioficeandfire.com/api/books',\n",
       " 'characters': 'https://anapioficeandfire.com/api/characters',\n",
       " 'houses': 'https://anapioficeandfire.com/api/houses'}"
      ]
     },
     "execution_count": 32,
     "metadata": {},
     "output_type": "execute_result"
    }
   ],
   "source": [
    "gofinfo_data"
   ]
  },
  {
   "cell_type": "code",
   "execution_count": 36,
   "metadata": {},
   "outputs": [],
   "source": [
    "gofcharacters_api_url = 'https://anapioficeandfire.com/api/characters'\n",
    "response = requests.get(gofcharacters_api_url)\n",
    "gofcharacters_data = response.json()"
   ]
  },
  {
   "cell_type": "code",
   "execution_count": 37,
   "metadata": {},
   "outputs": [
    {
     "data": {
      "text/plain": [
       "[{'url': 'https://anapioficeandfire.com/api/characters/1',\n",
       "  'name': '',\n",
       "  'gender': 'Female',\n",
       "  'culture': 'Braavosi',\n",
       "  'born': '',\n",
       "  'died': '',\n",
       "  'titles': [''],\n",
       "  'aliases': ['The Daughter of the Dusk'],\n",
       "  'father': '',\n",
       "  'mother': '',\n",
       "  'spouse': '',\n",
       "  'allegiances': [],\n",
       "  'books': ['https://anapioficeandfire.com/api/books/5'],\n",
       "  'povBooks': [],\n",
       "  'tvSeries': [''],\n",
       "  'playedBy': ['']},\n",
       " {'url': 'https://anapioficeandfire.com/api/characters/2',\n",
       "  'name': 'Walder',\n",
       "  'gender': 'Male',\n",
       "  'culture': '',\n",
       "  'born': '',\n",
       "  'died': '',\n",
       "  'titles': [''],\n",
       "  'aliases': ['Hodor'],\n",
       "  'father': '',\n",
       "  'mother': '',\n",
       "  'spouse': '',\n",
       "  'allegiances': ['https://anapioficeandfire.com/api/houses/362'],\n",
       "  'books': ['https://anapioficeandfire.com/api/books/1',\n",
       "   'https://anapioficeandfire.com/api/books/2',\n",
       "   'https://anapioficeandfire.com/api/books/3',\n",
       "   'https://anapioficeandfire.com/api/books/5',\n",
       "   'https://anapioficeandfire.com/api/books/8'],\n",
       "  'povBooks': [],\n",
       "  'tvSeries': ['Season 1', 'Season 2', 'Season 3', 'Season 4', 'Season 6'],\n",
       "  'playedBy': ['Kristian Nairn']},\n",
       " {'url': 'https://anapioficeandfire.com/api/characters/3',\n",
       "  'name': '',\n",
       "  'gender': 'Male',\n",
       "  'culture': '',\n",
       "  'born': '',\n",
       "  'died': '',\n",
       "  'titles': [''],\n",
       "  'aliases': ['Lamprey'],\n",
       "  'father': '',\n",
       "  'mother': '',\n",
       "  'spouse': '',\n",
       "  'allegiances': ['https://anapioficeandfire.com/api/houses/15'],\n",
       "  'books': ['https://anapioficeandfire.com/api/books/3'],\n",
       "  'povBooks': [],\n",
       "  'tvSeries': [''],\n",
       "  'playedBy': ['']},\n",
       " {'url': 'https://anapioficeandfire.com/api/characters/4',\n",
       "  'name': '',\n",
       "  'gender': 'Female',\n",
       "  'culture': 'Braavosi',\n",
       "  'born': '',\n",
       "  'died': '',\n",
       "  'titles': [''],\n",
       "  'aliases': ['The Merling Queen'],\n",
       "  'father': '',\n",
       "  'mother': '',\n",
       "  'spouse': '',\n",
       "  'allegiances': [],\n",
       "  'books': ['https://anapioficeandfire.com/api/books/5',\n",
       "   'https://anapioficeandfire.com/api/books/8'],\n",
       "  'povBooks': [],\n",
       "  'tvSeries': [''],\n",
       "  'playedBy': ['']},\n",
       " {'url': 'https://anapioficeandfire.com/api/characters/5',\n",
       "  'name': '',\n",
       "  'gender': 'Male',\n",
       "  'culture': '',\n",
       "  'born': '',\n",
       "  'died': '',\n",
       "  'titles': [''],\n",
       "  'aliases': ['Old Crackbones'],\n",
       "  'father': '',\n",
       "  'mother': '',\n",
       "  'spouse': '',\n",
       "  'allegiances': [],\n",
       "  'books': ['https://anapioficeandfire.com/api/books/5'],\n",
       "  'povBooks': [],\n",
       "  'tvSeries': [''],\n",
       "  'playedBy': ['']},\n",
       " {'url': 'https://anapioficeandfire.com/api/characters/6',\n",
       "  'name': '',\n",
       "  'gender': 'Female',\n",
       "  'culture': 'Braavosi',\n",
       "  'born': '',\n",
       "  'died': '',\n",
       "  'titles': [''],\n",
       "  'aliases': ['The Poetess'],\n",
       "  'father': '',\n",
       "  'mother': '',\n",
       "  'spouse': '',\n",
       "  'allegiances': [],\n",
       "  'books': ['https://anapioficeandfire.com/api/books/5'],\n",
       "  'povBooks': [],\n",
       "  'tvSeries': [''],\n",
       "  'playedBy': ['']},\n",
       " {'url': 'https://anapioficeandfire.com/api/characters/7',\n",
       "  'name': '',\n",
       "  'gender': 'Female',\n",
       "  'culture': '',\n",
       "  'born': '',\n",
       "  'died': '',\n",
       "  'titles': [''],\n",
       "  'aliases': ['Porridge'],\n",
       "  'father': '',\n",
       "  'mother': '',\n",
       "  'spouse': '',\n",
       "  'allegiances': ['https://anapioficeandfire.com/api/houses/15'],\n",
       "  'books': ['https://anapioficeandfire.com/api/books/3'],\n",
       "  'povBooks': [],\n",
       "  'tvSeries': [''],\n",
       "  'playedBy': ['']},\n",
       " {'url': 'https://anapioficeandfire.com/api/characters/8',\n",
       "  'name': '',\n",
       "  'gender': 'Male',\n",
       "  'culture': '',\n",
       "  'born': '',\n",
       "  'died': '',\n",
       "  'titles': [''],\n",
       "  'aliases': ['Quickfinger'],\n",
       "  'father': '',\n",
       "  'mother': '',\n",
       "  'spouse': '',\n",
       "  'allegiances': ['https://anapioficeandfire.com/api/houses/23'],\n",
       "  'books': ['https://anapioficeandfire.com/api/books/6'],\n",
       "  'povBooks': [],\n",
       "  'tvSeries': [''],\n",
       "  'playedBy': ['']},\n",
       " {'url': 'https://anapioficeandfire.com/api/characters/9',\n",
       "  'name': '',\n",
       "  'gender': 'Female',\n",
       "  'culture': '',\n",
       "  'born': '',\n",
       "  'died': '',\n",
       "  'titles': [''],\n",
       "  'aliases': [\"the Sailor's Wife\"],\n",
       "  'father': '',\n",
       "  'mother': '',\n",
       "  'spouse': '',\n",
       "  'allegiances': [],\n",
       "  'books': ['https://anapioficeandfire.com/api/books/5'],\n",
       "  'povBooks': [],\n",
       "  'tvSeries': [''],\n",
       "  'playedBy': ['']},\n",
       " {'url': 'https://anapioficeandfire.com/api/characters/10',\n",
       "  'name': '',\n",
       "  'gender': 'Female',\n",
       "  'culture': 'Braavosi',\n",
       "  'born': '',\n",
       "  'died': '',\n",
       "  'titles': [''],\n",
       "  'aliases': ['The Veiled Lady'],\n",
       "  'father': '',\n",
       "  'mother': '',\n",
       "  'spouse': '',\n",
       "  'allegiances': [],\n",
       "  'books': ['https://anapioficeandfire.com/api/books/5'],\n",
       "  'povBooks': [],\n",
       "  'tvSeries': [''],\n",
       "  'playedBy': ['']}]"
      ]
     },
     "execution_count": 37,
     "metadata": {},
     "output_type": "execute_result"
    }
   ],
   "source": [
    "gofcharacters_data"
   ]
  },
  {
   "cell_type": "code",
   "execution_count": 38,
   "metadata": {},
   "outputs": [
    {
     "ename": "TypeError",
     "evalue": "list indices must be integers or slices, not str",
     "output_type": "error",
     "traceback": [
      "\u001b[0;31m---------------------------------------------------------------------------\u001b[0m",
      "\u001b[0;31mTypeError\u001b[0m                                 Traceback (most recent call last)",
      "\u001b[0;32m/var/folders/kh/jmq47k2n4rb20mxmd563qfbm0000gn/T/ipykernel_8932/817019563.py\u001b[0m in \u001b[0;36m<module>\u001b[0;34m\u001b[0m\n\u001b[0;32m----> 1\u001b[0;31m \u001b[0mprint\u001b[0m\u001b[0;34m(\u001b[0m\u001b[0mgofcharacters_data\u001b[0m\u001b[0;34m[\u001b[0m\u001b[0;34m'name'\u001b[0m\u001b[0;34m]\u001b[0m\u001b[0;34m)\u001b[0m\u001b[0;34m\u001b[0m\u001b[0;34m\u001b[0m\u001b[0m\n\u001b[0m",
      "\u001b[0;31mTypeError\u001b[0m: list indices must be integers or slices, not str"
     ]
    }
   ],
   "source": [
    "print(gofcharacters_data['name'])"
   ]
  },
  {
   "cell_type": "code",
   "execution_count": null,
   "metadata": {},
   "outputs": [],
   "source": []
  }
 ],
 "metadata": {
  "kernelspec": {
   "display_name": "Python 3 (ipykernel)",
   "language": "python",
   "name": "python3"
  },
  "language_info": {
   "codemirror_mode": {
    "name": "ipython",
    "version": 3
   },
   "file_extension": ".py",
   "mimetype": "text/x-python",
   "name": "python",
   "nbconvert_exporter": "python",
   "pygments_lexer": "ipython3",
   "version": "3.9.13"
  }
 },
 "nbformat": 4,
 "nbformat_minor": 2
}
